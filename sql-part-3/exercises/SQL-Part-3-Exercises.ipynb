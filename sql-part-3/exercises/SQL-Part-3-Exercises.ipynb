{
    "cells": [
        {
            "cell_type": "markdown",
            "metadata": {
                "azdata_cell_guid": "c739e118-2a3a-45f9-bd51-090c836e7a7e"
            },
            "source": [
                "# SQL Part 3 Exercises: Joins\n",
                "\n",
                "This notebook works with `BooksDB`.\n",
                "\n",
                "**Questions 1-4** focus on how joins work in a more general sense.  If you are not sure how to best answer the questions, try manipulating the queries by changing the order of joins, the length of the TOP, or how they are ordered.\n",
                "\n",
                "Note: If some of the queries are not returning quickly, you can try closing and restarting Visual Studio Code after a few minutes.\n",
                "\n",
                "In **questions 5-8**, you will be asked to join tables to find results about titles, tags, and the books users want to read.\n",
                "\n",
                "As you go through the questions, you will see 'Minimum Desired Output'.  This will provide you with the bare minimum columns needed to answer the questions.  When you write the queries, add as many additional columns as you need to best find your answers."
            ]
        },
        {
            "cell_type": "markdown",
            "metadata": {
                "azdata_cell_guid": "cdfaf133-068f-496d-8ecb-ecfde5c8d9f5"
            },
            "source": [
                "## QUESTION 1:  Exploring a `LEFT JOIN` using the `books` and `to_read` tables\n",
                "\n",
                "The code block below has been commented out. To answer this question, you will need to uncomment it by removing the `/*` (line 1) and `*/` (line 16).\n",
                "\n",
                "**Part A:** Look at Query 1, which table is the 'Left' table and which is the 'Right'?\n",
                "\n",
                "> Your Answer:\n",
                "\n",
                "**Part B:** Using table 2, answer the following questions: \n",
                "- When we added a `WHERE tr.user_id IS NOT NULL` clause (line 14), how did the table change?  Why?\n",
                "\n",
                "> Your Answer:"
            ]
        },
        {
            "cell_type": "code",
            "execution_count": null,
            "metadata": {
                "azdata_cell_guid": "a2038d22-5f42-4539-af89-d1fd36c66d47",
                "language": "sql"
            },
            "outputs": [],
            "source": [
                "\n",
                "-- Query 1: LEFT JOIN\n",
                "SELECT TOP 50 b.title, b.average_rating, b.books_count,tr.user_id, tr.book_id\n",
                "FROM BooksDB.dbo.books AS b\n",
                "LEFT JOIN BooksDB.dbo.to_read AS tr\n",
                "ON b.best_book_id = tr.book_id\n",
                "ORDER BY b.average_rating;\n",
                "\n",
                "-- Query 2: LEFT JOIN USING 'IS NOT NULL'\n",
                "SELECT TOP 50 b.title, b.average_rating, b.books_count,tr.user_id, tr.book_id\n",
                "FROM BooksDB.dbo.books AS b\n",
                "LEFT JOIN BooksDB.dbo.to_read AS tr\n",
                "ON b.best_book_id = tr.book_id\n",
                "WHERE tr.user_id IS NOT NULL\n",
                "ORDER BY b.average_rating;\n",
                "\n",
                "/*\n",
                "Part A: books (b) is the Left table, to_read (tr) is the Right table\n",
                "\n",
                "Part B: adding IS NOT NULL removed some records that had NULL values, \n",
                "which indicated that those records did not appear on the Right table.\n",
                "*/\n"
            ]
        },
        {
            "cell_type": "markdown",
            "metadata": {
                "azdata_cell_guid": "e5b293e1-3c99-4696-93db-71e77df50757"
            },
            "source": [
                "## **QUESTION 2:** Exploring `RIGHT` joins with the `books` and `to_read` tables\n",
                "\n",
                "You will need to uncomment the query to answer the question.\n",
                "\n",
                "**Part A:** Looking at the query, which table is the 'Left' and which is the 'Right'?\n",
                "\n",
                "> Your Answer:\n",
                "\n",
                "**Part B:** How do the RIGHT-joined tables differ from the LEFT-joined tables in Question 1?\n",
                "\n",
                "> Your Answer:"
            ]
        },
        {
            "cell_type": "code",
            "execution_count": null,
            "metadata": {
                "azdata_cell_guid": "3916ff86-e45b-47d3-ae94-c1ee7903c7b9",
                "language": "sql"
            },
            "outputs": [],
            "source": [
                "-- Query 1: RIGHT JOIN\n",
                "SELECT TOP 300 b.title, b.average_rating, b.books_count, tr.user_id, tr.book_id\n",
                "FROM BooksDB.dbo.books AS b\n",
                "RIGHT JOIN BooksDB.dbo.to_read AS tr\n",
                "ON b.best_book_id = tr.book_id;\n",
                "\n",
                "/*\n",
                "\n",
                "Part A: books (b) is the Left table, to_read (tr) is the Right table\n",
                "\n",
                "Part B: the right-joined tables hav a lot of NULL values, meaning that a lot of \n",
                "books in the selected portion of the \"to read\" table do not have matching records\n",
                "in the selected portion of the \"books\" table\n",
                "\n",
                "*/\n"
            ]
        },
        {
            "cell_type": "markdown",
            "metadata": {
                "azdata_cell_guid": "db92a0de-8cbe-47b2-a989-c77138c427fd"
            },
            "source": [
                "## **QUESTION 3:** Exploring FULL JOINS with the `books` and `to_read` tables\n",
                "\n",
                "You will need to uncomment the Query to answer the question.\n",
                "\n",
                "**Part A:**  Look at the table and explore how it was populated.  Try manipulating the query to better understand how this table works.  Try adding a WHERE clause, or ORDER BY a column on the `books` table.  Based on your exploration, can you think of when you might want a FULL join rather than a LEFT, RIGHT, or INNER?\n",
                "\n",
                "> Your Answer:"
            ]
        },
        {
            "cell_type": "code",
            "execution_count": null,
            "metadata": {
                "azdata_cell_guid": "421beb17-491d-4d0b-9a83-4383e9a878f6",
                "language": "sql"
            },
            "outputs": [],
            "source": [
                "-- FULL JOIN\n",
                "SELECT TOP 30 b.title, b.average_rating, b.books_count,tr.user_id, tr.book_id\n",
                "FROM BooksDB.dbo.books AS b\n",
                "FULL JOIN BooksDB.dbo.to_read AS tr\n",
                "ON b.book_id = tr.book_id;\n",
                "\n",
                "/*A full join could be useful when contrasting the tables' data. To use the examples\n",
                "from the lesson (\"Wedding guests\" and \"vow renewal guests\"), maybe you want to see \n",
                "which people were invited to one but not the other, and thus would not have shown up\n",
                "at all in one set of data. \n",
                "\n",
                "I think a full join might be considered whenever you expect to have a lot of non-matching records.*/"
            ]
        },
        {
            "cell_type": "markdown",
            "metadata": {
                "azdata_cell_guid": "c9219b58-ba70-4f18-b40d-5a959f50ec10"
            },
            "source": [
                "## **QUESTION 4:** Exploring INNER Joins with the `books` and `to_read` tables\n",
                "\n",
                "You will need to uncomment the Query to answer the question.\n",
                "\n",
                "**Part A:**  What does an inner join do?\n",
                "\n",
                "> Your Answer: \n",
                "\n",
                "**Part B:** Currently this table has an `'IS NOT NULL'` in the `WHERE` clause. Is this necessary for this table? Why or Why not?\n",
                "\n",
                "> Your Answer:\n",
                "\n",
                "**Part C:**  When using SQL, you are usually returning much larger tables so every line of code will add to the compilation and return time.  Rewrite this inner join query so that it contains no redundant code.\n",
                "\n",
                "> Your Answer:  Update the query in the code box below."
            ]
        },
        {
            "cell_type": "code",
            "execution_count": null,
            "metadata": {
                "azdata_cell_guid": "6ee6b18f-d81b-46b8-857b-95e2e88bd1fd",
                "language": "sql"
            },
            "outputs": [],
            "source": [
                "\n",
                "-- INNER JOIN\n",
                "SELECT TOP 30 b.title, b.average_rating, b.books_count,tr.user_id, tr.book_id\n",
                "FROM BooksDB.dbo.books AS b\n",
                "INNER JOIN BooksDB.dbo.to_read AS tr\n",
                "ON b.book_id = tr.book_id\n",
                "WHERE b.title IS NOT NULL\n",
                "ORDER BY tr.book_id;\n",
                "\n",
                "/* \n",
                "\n",
                "Part A - an inner join returns records that have values on BOTH tables -- the middle portion of the Venn diagram.\n",
                "\n",
                "Part B - the IS NOT NULL is unnecessary because a quick query reveals that there are no records where title has a NULL value\n",
                "\n",
                "Part C - the only part I can definitively identify as redundant, without further context, is \"WHERE b.title IS NOT NULL\". */\n",
                "\n",
                "--Updated query:\n",
                "SELECT TOP 30 b.title, b.average_rating, b.books_count,tr.user_id, tr.book_id\n",
                "FROM BooksDB.dbo.books AS b\n",
                "INNER JOIN BooksDB.dbo.to_read AS tr\n",
                "ON b.book_id = tr.book_id\n",
                "ORDER BY tr.book_id;"
            ]
        },
        {
            "cell_type": "markdown",
            "metadata": {
                "azdata_cell_guid": "6c20039d-2496-42c6-b5fc-db8f1ded0ce4"
            },
            "source": [
                "## **QUESTION 5:**  Using joins to find the most tagged book and the most popular tag\n",
                "\n",
                "We will be writing 3 queries to find both the most tagged book and that book's most popular tag.\n",
                "\n",
                "**Part A:**  What is the most tagged book?\n",
                "\n",
                "Start by joining the `books` and `book_tags` tables ON the `books.best_book_id` and `book_tags.goodreads_book_id`. We want the *most popular* book, so think about ordering the table in a way that will display both the book title and the number of times a book tag has been used.\n",
                "\n",
                "Minimum Desired output:_  The title of the most tagged book, and the number of times the book has been tagged.\n",
                "\n",
                "**Title:**\n",
                "\n",
                "**Part B:** How many different tags have been used for the most tagged book?\n",
                "\n",
                "Start by joining the `books` and `book_tags` tables ON the `books.best_book_id` and `book_tags.goodreads_book_id`. We want to find the *most popular* tag id, so think about ordering in a way that will display the most popular tag id.\n",
                "\n",
                "*Minimum Desired Output:* The tag id for the most popular tag used for the most tagged book.\n",
                "\n",
                "**Tag Id:**\n",
                "\n",
                "**Part C:** What is this particular tag?\n",
                "\n",
                "You may return this answer with a simple query.\n",
                "\n",
                "*Minimum Desired Output:* The tag name for the most popular tag used for the most tagged book.\n",
                "\n",
                "**Tag Name:**"
            ]
        },
        {
            "cell_type": "code",
            "execution_count": null,
            "metadata": {
                "azdata_cell_guid": "c1d7f859-cf56-424e-bd90-0203ab5a1cdd",
                "language": "sql"
            },
            "outputs": [],
            "source": [
                "/* Part A: The most-tagged book is \"Harry Potter and the Sorcerer's Stone\", with 786374 total tags. best_book_id is 3 */\n",
                "USE BooksDB\n",
                "\n",
                "SELECT TOP 1 b.best_book_id, b.title, sum(t.count) AS total_tags\n",
                "FROM books AS b\n",
                "INNER JOIN book_tags AS t\n",
                "ON b.best_book_id = t.goodreads_book_id\n",
                "GROUP BY b.best_book_id, b.title\n",
                "ORDER BY total_tags DESC\n",
                "\n",
                "/* Part B: The tag_id for the most popular tag for this book is 30574 */\n",
                "SELECT TOP 1 b.best_book_id, /*b.title,*/ t.tag_id, sum(t.count) AS total\n",
                "FROM books AS b\n",
                "INNER JOIN book_tags AS t\n",
                "ON b.best_book_id = t.goodreads_book_id\n",
                "WHERE best_book_id=3\n",
                "GROUP BY b.best_book_id, t.tag_id\n",
                "ORDER BY total DESC\n",
                "\n",
                "/* Part C: the tag name for tag_id 30574 is to-read */\n",
                "\n",
                "SELECT tag_name\n",
                "from tags\n",
                "WHERE tag_id=30574"
            ]
        },
        {
            "cell_type": "markdown",
            "metadata": {
                "azdata_cell_guid": "0afe0108-c632-4cde-b7e0-5e699c066e03"
            },
            "source": [
                "## QUESTION 6: Find a book based on a tag of your choice using joins.\n",
                "\n",
                "Some suggestions: any hobbies you like? baking, drawing, etc. how about favorite holidays, subjects, animals, etc?\n",
                "\n",
                "**Part A:** Explore the tags table for a tag of your choice.  Suggested ideas, try searching for one of your hobbies, a favorite time of year, favorite animal, etc.  Start by querying the tag table for your chosen tag.  (_Hint:_ in order to make sure you find all combinations of your tags, use the wildcard).  If your query returns more than one result, pick your favorite.\n",
                "\n",
                "Here is an example.  Alyce wanted to search for Halloween books.  She used the wildcard, `%halloween%` and 8 different combinations were found.  Alyce selected `halloween-storytime`, with a tag id of 13877.\n",
                "\n",
                "*Minimum Desired Output:* tag name and tag id\n",
                "\n",
                "**Your Tag and Tag Id:**\n",
                "\n",
                "**Part B:** Now that you have the tag id, find the title that was tagged the most with this tag by joining the `books` and `books_tags` tables.\n",
                "\n",
                "Alyce joined the book table with the tags table and discovered that \"The Little Old Lady Who Was Not Afraid of Anything\" was tagged as `halloween-storytime` the most.\n",
                "\n",
                "*Minimum Desired Output:* title and tag count\n",
                "\n",
                "**Your Title and Number of times the tag was used:**"
            ]
        },
        {
            "cell_type": "code",
            "execution_count": null,
            "metadata": {
                "azdata_cell_guid": "761b4d46-2218-486e-8336-cda901bc8551",
                "language": "sql"
            },
            "outputs": [],
            "source": [
                "/* Part A: tag_name space-opera, tag_id 28247 */\n",
                "\n",
                "SELECT *\n",
                "from tags\n",
                "WHERE tag_name LIKE '%space%opera%'\n",
                "\n",
                "/* Part B: The book with the most uses of this tag is \"Leviathan Wakes\", with t.count = 468*/\n",
                "\n",
                "SELECT TOP 1 b.best_book_id, b.title, t.tag_id, t.count\n",
                "FROM books AS b\n",
                "INNER JOIN book_tags AS t\n",
                "ON b.best_book_id = t.goodreads_book_id\n",
                "WHERE t.tag_id=28247\n",
                "ORDER BY t.count DESC"
            ]
        },
        {
            "cell_type": "markdown",
            "metadata": {
                "azdata_cell_guid": "d684cef6-783d-43d1-a017-f5e5d83c46da"
            },
            "source": [
                "## **QUESTION 7:** What are the top 10 most popular book titles on the 'to read' list?\n",
                "\n",
                "**Part A:**  Explore how the `to_read` and `books` tables are organized, and then join them.  What will you use as a key?\n",
                "\n",
                "Your Answer:\n",
                "\n",
                "**Part B:** Organize your newly joined table in a way that groups popularity based on the title based on users.\n",
                "\n",
                "*Hint:* Suggest using an alias for the aggregation you will need to run on the `user_id`\n",
                "\n",
                "*Minimum Desired Output:* title and aliased column"
            ]
        },
        {
            "cell_type": "code",
            "execution_count": null,
            "metadata": {
                "azdata_cell_guid": "3247ef18-3603-47b0-b2a1-0b6a70e8de33",
                "language": "sql"
            },
            "outputs": [],
            "source": [
                "/*Part A: the key will be book_id */\n",
                "\n",
                "/*Part B: the top title on the \"to read\" list is \"The Ultimate Hitchhiker's Guide to the Galaxy\", \n",
                "with a count of 1812 user ID's (total_marked_to_read). Full top-10 output follows. */\n",
                "\n",
                "/*\n",
                "title\t                                                                        total_marked_to_read\n",
                "The Ultimate Hitchhiker's Guide to the Galaxy\t                                1812\n",
                "The Hitchhiker's Guide to the Galaxy (Hitchhiker's Guide to the Galaxy, #1)\t    1767\n",
                "The Lord of the Rings: The Art of The Fellowship of the Ring\t                1499\n",
                "Harry Potter Boxed Set, Books 1-5 (Harry Potter, #1-5)\t                        1498\n",
                "Harry Potter and the Goblet of Fire (Harry Potter, #4)  \t                    1484\n",
                "The Known World\t                                                                1352\n",
                "Harry Potter and the Prisoner of Azkaban (Harry Potter, #3)\t                    1293\n",
                "The Lord of the Rings: Weapons and Warfare\t                                    1211\n",
                "Notes from a Small Island\t                                                    1148\n",
                "Harry Potter Collection (Harry Potter, #1-6)\t                                1110\n",
                "\n",
                "*/\n",
                "\n",
                "SELECT TOP 10 b.title, count(tr.user_id) AS total_marked_to_read\n",
                "FROM books AS b\n",
                "INNER JOIN to_read AS tr\n",
                "ON b.book_id = tr.book_id\n",
                "GROUP BY b.title\n",
                "ORDER BY total_marked_to_read DESC"
            ]
        },
        {
            "cell_type": "markdown",
            "metadata": {
                "azdata_cell_guid": "d7f2f6a3-ecc3-4629-aacd-312723da07af"
            },
            "source": [
                "## **QUESTION 8:** Largest 'To Read' Lists\n",
                "\n",
                "**Part A:**  Create a query that returns a table that contains the top 10 users with the most number of titles on their 'to read' list.    Group all the entries by `user_id`.\n",
                "\n",
                "_Hint:_ You might want an alias for the titles.\n",
                "\n",
                "_Minimum Desired Output:_ `user_id` and your aliased column of titles.\n",
                "\n",
                "**Part B:**  The longest list length is 15 titles total, and is shared by 4 different users.  Select one of the uses and print out their entire 'to read' list."
            ]
        },
        {
            "cell_type": "code",
            "execution_count": null,
            "metadata": {
                "azdata_cell_guid": "a7ae1df0-4d43-4e27-b635-eed926d2311f",
                "language": "sql"
            },
            "outputs": [],
            "source": [
                "/*Part A: longest list is user 14771 with 15 titles (tied), full list follows.*/\n",
                "\n",
                "/*\n",
                "\n",
                "user_id\t    total_titles_marked\n",
                "14771\t    15\n",
                "11932\t    15\n",
                "38201\t    15\n",
                "12483\t    15\n",
                "36923\t    14\n",
                "41523\t    14\n",
                "37359\t    14\n",
                "27933\t    14\n",
                "12103\t    13\n",
                "25734\t    13\n",
                "\n",
                "*/\n",
                "\n",
                "SELECT TOP 10 tr.user_id, count(b.title) AS total_titles_marked\n",
                "FROM books AS b\n",
                "INNER JOIN to_read AS tr\n",
                "ON b.book_id = tr.book_id\n",
                "GROUP BY tr.user_id\n",
                "ORDER BY total_titles_marked DESC\n",
                "\n",
                "/*Part B: I selected user_id 14771.*/\n",
                "\n",
                "SELECT tr.user_id, b.title, b.authors\n",
                "FROM books AS b\n",
                "INNER JOIN to_read AS tr\n",
                "ON b.book_id = tr.book_id\n",
                "WHERE tr.user_id=14771"
            ]
        }
    ],
    "metadata": {
        "kernelspec": {
            "display_name": "SQL",
            "language": "sql",
            "name": "SQL"
        },
        "language_info": {
            "name": "sql",
            "version": ""
        }
    },
    "nbformat": 4,
    "nbformat_minor": 2
}
