{
 "cells": [
  {
   "cell_type": "markdown",
   "metadata": {},
   "source": [
    "# SQL Part 1 Studio\n",
    "\n",
    "Let's practice your SQL querying skills!  For each question, work along in the notebook adding your query and answering the questions.\n",
    "\n",
    "## Dataset\n",
    "\n",
    "We will be using the same Goodreads dataset that was used for the exercises in the prep work. Feel free to reference your exercises notebook as you work on the studio. The Kaggle dataset can be found here: [goodbooks-10k](https://www.kaggle.com/zygmunt/goodbooks-10k).\n",
    "\n",
    "You can access **BooksDB** in the Launchcode server.\n",
    "\n",
    "## Business Issue\n",
    "\n",
    "You work for a small independent book store and you want to increase sales by running a new marketing campaign. Before you can design your campaign, you need to get more familiar with what is going on with the world of book publishing. Time to get more familar with BooksDB!"
   ]
  },
  {
   "cell_type": "markdown",
   "metadata": {},
   "source": [
    "## Part 1: BooksDB Questions\n",
    "\n",
    "Question 1: Write a query of the `books` table that returns the top 100 results and includes `book_id`, `authors`, `title`, and `average_rating`. Use an alias for at least one column and sort the result set in descending order of rating. What is the number one book?"
   ]
  },
  {
   "cell_type": "code",
   "execution_count": null,
   "metadata": {
    "vscode": {
     "languageId": "sql"
    }
   },
   "outputs": [],
   "source": [
    "SELECT TOP 100 book_id, authors, title, average_rating AS \"Average Rating\"\n",
    "FROM BooksDB.dbo.books\n",
    "ORDER BY \"Average Rating\" DESC\n",
    "\n",
    "-- ANSWER: The complete Calvin and Hobbes"
   ]
  },
  {
   "cell_type": "markdown",
   "metadata": {},
   "source": [
    "Question 2: Write a query to find the least popular book."
   ]
  },
  {
   "cell_type": "code",
   "execution_count": null,
   "metadata": {
    "vscode": {
     "languageId": "sql"
    }
   },
   "outputs": [],
   "source": [
    "SELECT TOP 1 book_id, authors, title, average_rating AS \"Average Rating\"\n",
    "FROM BooksDB.dbo.books\n",
    "ORDER BY \"Average Rating\"\n",
    "\n",
    "-- ANSWER: One Night at the Call Center"
   ]
  },
  {
   "cell_type": "markdown",
   "metadata": {},
   "source": [
    "Question 3: Which tag is the most popular?"
   ]
  },
  {
   "cell_type": "code",
   "execution_count": null,
   "metadata": {
    "vscode": {
     "languageId": "sql"
    }
   },
   "outputs": [],
   "source": [
    "SELECT TOP 1 tag_id, \"count\"\n",
    "FROM BooksDB.dbo.book_tags\n",
    "ORDER BY \"count\" DESC\n",
    "-- ANSWER: 30574"
   ]
  },
  {
   "cell_type": "markdown",
   "metadata": {},
   "source": [
    "Question 4: What is the name of the most popular tag?"
   ]
  },
  {
   "cell_type": "code",
   "execution_count": null,
   "metadata": {
    "vscode": {
     "languageId": "sql"
    }
   },
   "outputs": [],
   "source": [
    "SELECT tag_id, tag_name\n",
    "FROM BooksDB.dbo.tags\n",
    "WHERE tag_id LIKE 30574\n",
    "-- ANSWER: to-read"
   ]
  },
  {
   "cell_type": "markdown",
   "metadata": {},
   "source": [
    "Question 5: How many books where released in the first decade of 2000?"
   ]
  },
  {
   "cell_type": "code",
   "execution_count": null,
   "metadata": {
    "vscode": {
     "languageId": "sql"
    }
   },
   "outputs": [],
   "source": [
    "SELECT COUNT(*)\n",
    "FROM BooksDB.dbo.books\n",
    "WHERE (original_publication_year >1999) AND (original_publication_year <2010)-- return number of books published in the first decade of 2000"
   ]
  },
  {
   "cell_type": "markdown",
   "metadata": {},
   "source": [
    "Question 6: How many book titles contain the word, \"happy\"?"
   ]
  },
  {
   "cell_type": "code",
   "execution_count": null,
   "metadata": {
    "vscode": {
     "languageId": "sql"
    }
   },
   "outputs": [],
   "source": [
    "SELECT COUNT(*)\n",
    "FROM BooksDB.dbo.books\n",
    "WHERE title LIKE ('%Happy%')\n",
    "-- ANSWER: 13"
   ]
  },
  {
   "cell_type": "markdown",
   "metadata": {},
   "source": [
    "Question 7: List the books from the top 3 authors from Question 1.  If there is more than one author just use the first one. Sort the title alphabetically by `author` and then by `average_rating`, best rated to lowest. Does this order matter in sorting?"
   ]
  },
  {
   "cell_type": "code",
   "execution_count": null,
   "metadata": {
    "vscode": {
     "languageId": "sql"
    }
   },
   "outputs": [],
   "source": [
    "SELECT book_id, authors, title, average_rating AS \"Average Rating\"\n",
    "FROM BooksDB.dbo.books\n",
    "WHERE authors LIKE 'Bill Watterson' or authors LIKE 'Brandon Sanderson' or authors LIKE 'J%K%Rowling'\n",
    "ORDER BY authors, \"Average Rating\" DESC\n",
    "--ORDER BY \"Average Rating\" DESC, authors\n",
    "\n",
    "/* The sort order does matter; author-first returns all of one author's books sorted by rating, then the next author's books sorted by rating, etc.\n",
    "Rating-first returns the books in order of rating, regardless of author; the author obnly enters into it when there are multiple books with the same rating.*/"
   ]
  },
  {
   "cell_type": "markdown",
   "metadata": {},
   "source": [
    "Question 8: Write a query that returns the number of authors whose first name is between rock and roll."
   ]
  },
  {
   "cell_type": "code",
   "execution_count": null,
   "metadata": {
    "vscode": {
     "languageId": "sql"
    }
   },
   "outputs": [],
   "source": [
    "SELECT COUNT(*)\n",
    "FROM BooksDB.dbo.books \n",
    "WHERE authors > 'Rock' AND authors < 'Roll'\n",
    "\n",
    "-- ANSWER: 25"
   ]
  },
  {
   "cell_type": "markdown",
   "metadata": {},
   "source": [
    "## Part 2: Find the Answers to Your Own Questions\n",
    "\n",
    "Your Question:  Click here to add a questions that you want to answer and write a query to find the answer!"
   ]
  },
  {
   "cell_type": "code",
   "execution_count": null,
   "metadata": {
    "vscode": {
     "languageId": "sql"
    }
   },
   "outputs": [],
   "source": [
    "-- Question: Which author has the most books represented in this data?\n",
    "\n",
    "SELECT TOP 1 authors, COUNT (*) AS \"Number of books\"\n",
    "FROM BooksDB.dbo.books\n",
    "GROUP BY authors\n",
    "ORDER BY \"Number of books\" DESC\n",
    "\n",
    "-- ANSWER: Steven King, with 60 books; I did expect it to be James Patterson."
   ]
  },
  {
   "cell_type": "markdown",
   "metadata": {},
   "source": [
    "Your Question:  Click here to add a questions that you want to answer and write a query to find the answer!"
   ]
  },
  {
   "cell_type": "code",
   "execution_count": null,
   "metadata": {
    "vscode": {
     "languageId": "sql"
    }
   },
   "outputs": [],
   "source": [
    "-- Question: What is the average rating across all books (rounded to the nearest whole number), and how many books fall have that same average rating?\n",
    "\n",
    "--Part 1: average rating\n",
    "SELECT AVG(average_rating)\n",
    "FROM BooksDB.dbo.books\n",
    "\n",
    "-- ANSWER PART 1: 4.002191, rounded to 4\n",
    "\n",
    "--Part 2: how may books have the \"average\" average rating\n",
    "SELECT count(average_rating)\n",
    "FROM BooksDB.dbo.books\n",
    "WHERE average_rating=4\n",
    "\n",
    "-- ANSWER PART 2: 147"
   ]
  },
  {
   "cell_type": "markdown",
   "metadata": {},
   "source": [
    "If you cannot think of a question you want to ask, here are some question examples to help jumpstart your brainstorming process:\n",
    "\n",
    "1. What book has the longest title?\n",
    "1. Which author has written the most books?\n",
    "1. What were the top ten books published the year I was born?"
   ]
  }
 ],
 "metadata": {
  "language_info": {
   "name": "python"
  }
 },
 "nbformat": 4,
 "nbformat_minor": 2
}
